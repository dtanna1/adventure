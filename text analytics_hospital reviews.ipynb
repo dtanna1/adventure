{
 "cells": [
  {
   "cell_type": "code",
   "execution_count": 96,
   "metadata": {},
   "outputs": [],
   "source": [
    "import scrapy\n",
    "import requests\n",
    "from scrapy.http import TextResponse\n",
    "import pandas as pd\n",
    "import os\n",
    "\n",
    "url = ['https://www.healthgrades.com/hospital-directory/georgia-ga-atlanta/wellstar-atlanta-medical-center-hgstb1436f56110115',\n",
    "       'https://www.healthgrades.com/hospital-directory/georgia-ga-atlanta/wellstar-cobb-hospital-hgst13436f56110143',\n",
    "       'https://www.healthgrades.com/hospital-directory/georgia-ga-atlanta/wellstar-kennestone-hospital-hgst7d336f56110035',\n",
    "      'https://www.healthgrades.com/hospital-directory/georgia-ga-atlanta/wellstar-atlanta-medical-center-south-hgsta3c37685110219',\n",
    "      'https://www.healthgrades.com/hospital-directory/georgia-ga-atlanta/wellstar-douglas-hospital-hgst15436f56110184',\n",
    "      'https://www.healthgrades.com/hospital-directory/georgia-ga-atlanta/wellstar-paulding-hospital-hgsted336f56110042',\n",
    "      'https://www.healthgrades.com/hospital-directory/georgia-ga/wellstar-spalding-regional-hospital-hgst3d336f56110031',\n",
    "      'https://www.healthgrades.com/hospital-directory/georgia-ga-atlanta/wellstar-north-fulton-hospital-hgste5436f56110198',\n",
    "      'https://www.healthgrades.com/hospital-directory/georgia-ga-atlanta/wellstar-sylvan-grove-hospital-hgst686148b2111319']\n",
    "k=1\n",
    "appended_data=[]\n",
    "for i in url:\n",
    "    res = requests.get(i)\n",
    "    response = TextResponse(res.url, body=res.text, encoding='utf-8')\n",
    "    #dfn = str('reviews'+str(k)+'.csv')\n",
    "    hose = ' '.join(i.split('/')[5].split('-')[0:5])\n",
    "    review = pd.DataFrame(response.xpath(\"//section[@id='Reviews']//div[@class='container provider-reviews-container']//div[@class='provider-reviews-container__review']//div[@class='single-comment']/p/text()\").extract())\n",
    "    doc = pd.DataFrame(response.xpath(\"//section[@id='Reviews']//div[@class='container provider-reviews-container']//div[@class='provider-reviews-container__review']//div[@class='reviewInfo']//p[@itemprop='itemReviewed']//a/text()\").extract())\n",
    "    dates = pd.DataFrame(response.xpath(\"//section[@id='Reviews']//div[@class='container provider-reviews-container']//div[@class='provider-reviews-container__review']//div[@class='reviewInfo']//p/text()\").extract())\n",
    "    review['Hosiptal_Name'] = hose\n",
    "    review.columns=['Review','Hosiptal_Name']\n",
    "    review.reset_index()\n",
    "    \n",
    "    doc.columns = ['Doctor_Name']\n",
    "    dates.columns = ['Date']\n",
    "    pre_final = pd.concat([review,doc,dates],axis=1)\n",
    "    \n",
    "    appended_data.append(pre_final)\n",
    "    #d.to_csv(\"dummy.csv\",index=False)\n",
    "final_data=pd.concat(appended_data)\n",
    "final_data.to_csv('final_review_healthgrade.csv',index=False)\n",
    "    "
   ]
  },
  {
   "cell_type": "code",
   "execution_count": 173,
   "metadata": {},
   "outputs": [],
   "source": [
    "res = requests.get('https://www.yelp.com/biz/wellstar-kennestone-hospital-marietta-2?adjust_creative=mapquest&start=60&utm_campaign=yelp_feed&utm_medium=feed_v2&utm_source=mapquest')\n",
    "    #dfn = str('reviews'+str(k)+'.csv')"
   ]
  },
  {
   "cell_type": "code",
   "execution_count": null,
   "metadata": {},
   "outputs": [],
   "source": []
  },
  {
   "cell_type": "code",
   "execution_count": null,
   "metadata": {},
   "outputs": [],
   "source": []
  },
  {
   "cell_type": "code",
   "execution_count": 113,
   "metadata": {},
   "outputs": [],
   "source": [
    "from selenium import webdriver as wd\n",
    "from selenium.webdriver.support.ui import WebDriverWait \n",
    "from selenium.webdriver.support import expected_conditions as EC\n",
    "from selenium.webdriver.common.keys import Keys\n",
    "from selenium.webdriver.common.by import By\n",
    "from selenium.webdriver.support.ui import WebDriverWait\n",
    "import datetime\n",
    "import time\n",
    "import openpyxl as excel\n",
    "from time import sleep\n",
    "import pandas as pd"
   ]
  },
  {
   "cell_type": "code",
   "execution_count": 139,
   "metadata": {},
   "outputs": [],
   "source": [
    "chrome_options = wd.ChromeOptions()\n",
    "driver = wd.Chrome(executable_path='C:/Users/Devanshee/Downloads/chromedriver_win32/chromedriver',options=chrome_options)"
   ]
  },
  {
   "cell_type": "code",
   "execution_count": 253,
   "metadata": {},
   "outputs": [
    {
     "name": "stdout",
     "output_type": "stream",
     "text": [
      "1\n",
      "3\n",
      "4\n"
     ]
    }
   ],
   "source": [
    "for no in [1,3,4]:\n",
    "    print(no)"
   ]
  },
  {
   "cell_type": "code",
   "execution_count": 272,
   "metadata": {},
   "outputs": [
    {
     "name": "stdout",
     "output_type": "stream",
     "text": [
      "?start=0\n",
      "?start=20\n",
      "?start=40\n",
      "?start=0\n",
      "?start=20\n",
      "?start=40\n",
      "?start=0\n",
      "?start=20\n",
      "?start=0\n",
      "?start=20\n",
      "?start=40\n",
      "?start=60\n",
      "?start=80\n",
      "?start=100\n",
      "?start=0\n",
      "?start=20\n",
      "?start=0\n",
      "?start=20\n",
      "?start=40\n",
      "?start=60\n"
     ]
    }
   ],
   "source": [
    "yelp_urls = ['https://www.yelp.com/biz/wellstar-atlanta-medical-imaging-center-atlanta',\n",
    "             'https://www.yelp.com/biz/wellstar-cobb-hospital-austell',\n",
    "            'https://www.yelp.com/biz/wellstar-atlanta-medical-center-south-east-point',\n",
    "            'https://www.yelp.com/biz/wellstar-kennestone-hospital-marietta-2',\n",
    "            'https://www.yelp.com/biz/wellstar-medical-group-intensivists-douglasville',\n",
    "            'https://www.yelp.com/biz/wellstar-paulding-hospital-hiram-3',\n",
    "            'https://www.yelp.com/biz/wellstar-spalding-regional-imaging-center-griffin-2',\n",
    "             'https://www.yelp.com/biz/wellstar-north-fulton-hospital-roswell'\n",
    "            ]\n",
    "reviews=[]\n",
    "dates =[]\n",
    "num=20\n",
    "num_of_pages=[3,3,2,6,2,0,0,4]\n",
    "k=0\n",
    "for i in num_of_pages:\n",
    "        for no in range(i):\n",
    "            a = no*num\n",
    "        #for no in range(3):\n",
    "            page_no = '?start='+str(a)\n",
    "            \n",
    "            driver.get(str(yelp_urls[k])+str(page_no))\n",
    "            reviews_elements = driver.find_elements_by_xpath(\"//div[@class = 'review-content']//p[@lang='en']\")\n",
    "            dates_reviews= driver.find_elements_by_xpath(\"//span[@class='rating-qualifier']\")\n",
    "            for i in reviews_elements:\n",
    "                reviews.append(i.text)\n",
    "\n",
    "            for j in dates_reviews:\n",
    "                dates.append(j.text)\n",
    "            print(page_no)\n",
    "\n",
    "        k=k+1\n",
    "\n"
   ]
  },
  {
   "cell_type": "code",
   "execution_count": 275,
   "metadata": {},
   "outputs": [
    {
     "data": {
      "text/plain": [
       "348"
      ]
     },
     "execution_count": 275,
     "metadata": {},
     "output_type": "execute_result"
    }
   ],
   "source": [
    "len(reviews)"
   ]
  },
  {
   "cell_type": "code",
   "execution_count": null,
   "metadata": {},
   "outputs": [],
   "source": [
    "\n"
   ]
  },
  {
   "cell_type": "code",
   "execution_count": 270,
   "metadata": {},
   "outputs": [
    {
     "data": {
      "text/plain": [
       "0"
      ]
     },
     "execution_count": 270,
     "metadata": {},
     "output_type": "execute_result"
    }
   ],
   "source": [
    "a.index(3)"
   ]
  },
  {
   "cell_type": "code",
   "execution_count": null,
   "metadata": {},
   "outputs": [],
   "source": []
  },
  {
   "cell_type": "code",
   "execution_count": null,
   "metadata": {},
   "outputs": [],
   "source": []
  },
  {
   "cell_type": "code",
   "execution_count": null,
   "metadata": {},
   "outputs": [],
   "source": []
  },
  {
   "cell_type": "code",
   "execution_count": null,
   "metadata": {},
   "outputs": [],
   "source": []
  },
  {
   "cell_type": "code",
   "execution_count": null,
   "metadata": {},
   "outputs": [],
   "source": []
  },
  {
   "cell_type": "code",
   "execution_count": null,
   "metadata": {},
   "outputs": [],
   "source": []
  },
  {
   "cell_type": "code",
   "execution_count": null,
   "metadata": {},
   "outputs": [],
   "source": []
  },
  {
   "cell_type": "code",
   "execution_count": null,
   "metadata": {},
   "outputs": [],
   "source": []
  }
 ],
 "metadata": {
  "kernelspec": {
   "display_name": "Python 3",
   "language": "python",
   "name": "python3"
  },
  "language_info": {
   "codemirror_mode": {
    "name": "ipython",
    "version": 3
   },
   "file_extension": ".py",
   "mimetype": "text/x-python",
   "name": "python",
   "nbconvert_exporter": "python",
   "pygments_lexer": "ipython3",
   "version": "3.7.3"
  }
 },
 "nbformat": 4,
 "nbformat_minor": 2
}
